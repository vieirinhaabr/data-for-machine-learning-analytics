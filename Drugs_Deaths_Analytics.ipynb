{
 "cells": [
  {
   "cell_type": "code",
   "execution_count": 1,
   "metadata": {},
   "outputs": [
    {
     "name": "stdout",
     "output_type": "stream",
     "text": [
      "Requirement already satisfied: pandas in /srv/conda/lib/python3.6/site-packages (0.24.2)\n",
      "Requirement already satisfied: numpy>=1.12.0 in /srv/conda/lib/python3.6/site-packages (from pandas) (1.16.3)\n",
      "Requirement already satisfied: python-dateutil>=2.5.0 in /srv/conda/lib/python3.6/site-packages (from pandas) (2.8.0)\n",
      "Requirement already satisfied: pytz>=2011k in /srv/conda/lib/python3.6/site-packages (from pandas) (2019.1)\n",
      "Requirement already satisfied: six>=1.5 in /srv/conda/lib/python3.6/site-packages (from python-dateutil>=2.5.0->pandas) (1.12.0)\n",
      "Note: you may need to restart the kernel to use updated packages.\n"
     ]
    }
   ],
   "source": [
    "pip install pandas"
   ]
  },
  {
   "cell_type": "code",
   "execution_count": 2,
   "metadata": {},
   "outputs": [
    {
     "name": "stdout",
     "output_type": "stream",
     "text": [
      "Requirement already satisfied: scikit-learn in /srv/conda/lib/python3.6/site-packages (0.20.3)\n",
      "Requirement already satisfied: numpy>=1.8.2 in /srv/conda/lib/python3.6/site-packages (from scikit-learn) (1.16.3)\n",
      "Requirement already satisfied: scipy>=0.13.3 in /srv/conda/lib/python3.6/site-packages (from scikit-learn) (1.2.1)\n",
      "Note: you may need to restart the kernel to use updated packages.\n"
     ]
    }
   ],
   "source": [
    "pip install scikit-learn"
   ]
  },
  {
   "cell_type": "code",
   "execution_count": 82,
   "metadata": {},
   "outputs": [
    {
     "name": "stdout",
     "output_type": "stream",
     "text": [
      "                           Date      DateType   Age     Sex             Race  \\\n",
      "ID                                                                             \n",
      "14-0273  06/28/2014 12:00:00 AM  DateReported   NaN     NaN              NaN   \n",
      "13-0102  03/21/2013 12:00:00 AM   DateofDeath  48.0    Male            Black   \n",
      "16-0165  03/13/2016 12:00:00 AM   DateofDeath  30.0  Female            White   \n",
      "16-0208  03/31/2016 12:00:00 AM   DateofDeath  23.0    Male            White   \n",
      "13-0052  02/13/2013 12:00:00 AM   DateofDeath  22.0    Male     Asian, Other   \n",
      "14-0277  06/29/2014 12:00:00 AM   DateofDeath  23.0    Male            White   \n",
      "12-0205  08/12/2012 12:00:00 AM   DateofDeath  21.0  Female            White   \n",
      "13-0404  11/10/2013 12:00:00 AM   DateofDeath  40.0  Female            White   \n",
      "12-0107  04/25/2012 12:00:00 AM   DateofDeath  40.0    Male            White   \n",
      "13-0161  05/15/2013 12:00:00 AM   DateofDeath  50.0    Male            White   \n",
      "12-0218  08/23/2012 12:00:00 AM   DateofDeath  26.0  Female  Hispanic, White   \n",
      "15-0334  07/05/2015 12:00:00 AM  DateReported  49.0  Female            White   \n",
      "15-0728                     NaN           NaN   NaN     NaN              NaN   \n",
      "15-0232  05/14/2015 12:00:00 AM  DateReported  50.0    Male            White   \n",
      "16-0028  01/13/2016 12:00:00 AM   DateofDeath  29.0    Male            Black   \n",
      "13-0279  08/19/2013 12:00:00 AM   DateofDeath  45.0    Male            White   \n",
      "14-0042  01/29/2014 12:00:00 AM   DateofDeath  29.0  Female            White   \n",
      "12-0060  03/02/2012 12:00:00 AM   DateofDeath  42.0    Male            White   \n",
      "16-0065  01/30/2016 12:00:00 AM   DateofDeath  54.0    Male            White   \n",
      "16-0889  12/20/2016 12:00:00 AM   DateofDeath  32.0    Male            White   \n",
      "\n",
      "         ResidenceCity ResidenceCounty ResidenceState      DeathCity  \\\n",
      "ID                                                                     \n",
      "14-0273            NaN             NaN            NaN            NaN   \n",
      "13-0102        NORWALK             NaN            NaN        NORWALK   \n",
      "16-0165     SANDY HOOK       FAIRFIELD             CT        DANBURY   \n",
      "16-0208            RYE     WESTCHESTER             NY      GREENWICH   \n",
      "13-0052       FLUSHING          QUEENS            NaN      GREENWICH   \n",
      "14-0277        BRISTOL             NaN            NaN        BRISTOL   \n",
      "12-0205  WEST HARTFORD        HARTFORD            NaN  WEST HARTFORD   \n",
      "13-0404         HAMDEN       NEW HAVEN            NaN      NEW HAVEN   \n",
      "12-0107  EAST HARTFORD        HARTFORD            NaN  EAST HARTFORD   \n",
      "13-0161      MONTVILLE      NEW LONDON            NaN      MONTVILLE   \n",
      "12-0218            NaN             NaN            NaN      STRATFORD   \n",
      "15-0334            NaN             NaN            NaN      NEW HAVEN   \n",
      "15-0728            NaN             NaN            NaN            NaN   \n",
      "15-0232        DANBURY       FAIRFIELD             CT        DANBURY   \n",
      "16-0028      NEW HAVEN       NEW HAVEN             CT      NEW HAVEN   \n",
      "13-0279       HARTFORD        HARTFORD            NaN       HARTFORD   \n",
      "14-0042     CANTERBURY             NaN            NaN       HARTFORD   \n",
      "12-0060    WALLINGFORD       NEW HAVEN            NaN    WALLINGFORD   \n",
      "16-0065     MIDDLETOWN       MIDDLESEX             CT     MIDDLETOWN   \n",
      "16-0889        WINDHAM         WINDHAM             CT        WINDHAM   \n",
      "\n",
      "        DeathCounty  ... Benzodiazepine Methadone Amphet Tramad  \\\n",
      "ID                   ...                                          \n",
      "14-0273         NaN  ...              Y       NaN    NaN    NaN   \n",
      "13-0102   FAIRFIELD  ...            NaN       NaN    NaN    NaN   \n",
      "16-0165         NaN  ...            NaN       NaN    NaN    NaN   \n",
      "16-0208         NaN  ...            NaN       NaN    NaN    NaN   \n",
      "13-0052   FAIRFIELD  ...            NaN       NaN    NaN    NaN   \n",
      "14-0277    HARTFORD  ...            NaN       NaN    NaN    NaN   \n",
      "12-0205    HARTFORD  ...            NaN       NaN    NaN    NaN   \n",
      "13-0404   NEW HAVEN  ...            NaN       NaN    NaN    NaN   \n",
      "12-0107    HARTFORD  ...            NaN       NaN    NaN    NaN   \n",
      "13-0161  NEW LONDON  ...            NaN       NaN    NaN    NaN   \n",
      "12-0218   FAIRFIELD  ...            NaN       NaN    NaN    NaN   \n",
      "15-0334   NEW HAVEN  ...            NaN         Y    NaN    NaN   \n",
      "15-0728         NaN  ...            NaN       NaN    NaN    NaN   \n",
      "15-0232   FAIRFIELD  ...            NaN       NaN    NaN    NaN   \n",
      "16-0028         NaN  ...              Y       NaN      Y    NaN   \n",
      "13-0279    HARTFORD  ...            NaN         Y    NaN    NaN   \n",
      "14-0042         NaN  ...              Y       NaN    NaN    NaN   \n",
      "12-0060   NEW HAVEN  ...            NaN       NaN    NaN    NaN   \n",
      "16-0065         NaN  ...            NaN       NaN    NaN    NaN   \n",
      "16-0889         NaN  ...              Y       NaN    NaN    NaN   \n",
      "\n",
      "        Morphine_NotHeroin Hydromorphone Other OpiateNOS AnyOpioid  \\\n",
      "ID                                                                   \n",
      "14-0273                NaN           NaN   NaN       NaN       NaN   \n",
      "13-0102                NaN           NaN   NaN       NaN       NaN   \n",
      "16-0165                NaN           NaN   NaN       NaN         Y   \n",
      "16-0208                NaN           NaN   NaN       NaN         Y   \n",
      "13-0052                NaN           NaN   NaN       NaN       NaN   \n",
      "14-0277                NaN           NaN   NaN       NaN       NaN   \n",
      "12-0205                NaN           NaN   NaN       NaN       NaN   \n",
      "13-0404                NaN           NaN   NaN       NaN       NaN   \n",
      "12-0107                NaN           NaN   NaN       NaN       NaN   \n",
      "13-0161                NaN           NaN   NaN       NaN       NaN   \n",
      "12-0218                NaN           NaN   NaN       NaN       NaN   \n",
      "15-0334                NaN           NaN   NaN       NaN         Y   \n",
      "15-0728                NaN           NaN   NaN       NaN       NaN   \n",
      "15-0232                NaN           NaN   NaN       NaN         Y   \n",
      "16-0028                NaN           NaN   NaN       NaN         Y   \n",
      "13-0279                NaN           NaN   NaN       NaN       NaN   \n",
      "14-0042                NaN           NaN   NaN       NaN       NaN   \n",
      "12-0060                NaN           NaN   NaN       NaN       NaN   \n",
      "16-0065                NaN           NaN   NaN       NaN         Y   \n",
      "16-0889                NaN           NaN   NaN       NaN         Y   \n",
      "\n",
      "        MannerofDeath  \n",
      "ID                     \n",
      "14-0273      Accident  \n",
      "13-0102      Accident  \n",
      "16-0165      Accident  \n",
      "16-0208      Accident  \n",
      "13-0052      Accident  \n",
      "14-0277      Accident  \n",
      "12-0205      Accident  \n",
      "13-0404      Accident  \n",
      "12-0107      Accident  \n",
      "13-0161      Accident  \n",
      "12-0218      Accident  \n",
      "15-0334      Accident  \n",
      "15-0728      Accident  \n",
      "15-0232      Accident  \n",
      "16-0028      Accident  \n",
      "13-0279      Accident  \n",
      "14-0042      Accident  \n",
      "12-0060      Accident  \n",
      "16-0065      Accident  \n",
      "16-0889      Accident  \n",
      "\n",
      "[20 rows x 37 columns]\n"
     ]
    }
   ],
   "source": [
    "import pandas as pd\n",
    "\n",
    "url = \"https://raw.githubusercontent.com/wandreuscv/data-for-machine-learning-analytics/master/Accidental_Drug_Related_Deaths_2012-2018.csv\"\n",
    "db = pd.read_csv(url, index_col='ID')\n",
    "db = db.drop(columns=['DeathCityGeo', 'ResidenceCityGeo', 'InjuryCityGeo'])\n",
    "db = db[0:20]\n",
    "print(db)"
   ]
  },
  {
   "cell_type": "code",
   "execution_count": 84,
   "metadata": {
    "scrolled": true
   },
   "outputs": [],
   "source": [
    "parameters = ['Age', 'Sex', 'Race']\n",
    "lenght = len(db)\n",
    "i = 0\n",
    "\n",
    "while i < lenght:\n",
    "    line = db[i:i+1]\n",
    "    strikes = 0\n",
    "    for parameter in parameters:\n",
    "        if line[parameter] is None:\n",
    "            strikes = strikes + 1\n",
    "    if strikes >= 2:\n",
    "        print(line)\n",
    "    i = i + 1\n",
    "            "
   ]
  },
  {
   "cell_type": "code",
   "execution_count": 16,
   "metadata": {},
   "outputs": [
    {
     "name": "stdout",
     "output_type": "stream",
     "text": [
      "ID\n",
      "Date\n",
      "DateType\n",
      "Age\n",
      "Sex\n",
      "Race\n",
      "ResidenceCity\n",
      "ResidenceCounty\n",
      "ResidenceState\n",
      "DeathCity\n",
      "DeathCounty\n",
      "Location\n",
      "LocationifOther\n",
      "DescriptionofInjury\n",
      "InjuryPlace\n",
      "InjuryCity\n",
      "InjuryCounty\n",
      "InjuryState\n",
      "COD\n",
      "OtherSignifican\n",
      "Heroin\n",
      "Cocaine\n",
      "Fentanyl\n",
      "FentanylAnalogue\n",
      "Oxycodone\n",
      "Oxymorphone\n",
      "Ethanol\n",
      "Hydrocodone\n",
      "Benzodiazepine\n",
      "Methadone\n",
      "Amphet\n",
      "Tramad\n",
      "Morphine_NotHeroin\n",
      "Hydromorphone\n",
      "Other\n",
      "OpiateNOS\n",
      "AnyOpioid\n",
      "MannerofDeath\n",
      "DeathCityGeo\n",
      "ResidenceCityGeo\n",
      "InjuryCityGeo\n"
     ]
    }
   ],
   "source": [
    "labels = db.columns\n",
    "for label in labels:\n",
    "    "
   ]
  },
  {
   "cell_type": "code",
   "execution_count": null,
   "metadata": {},
   "outputs": [],
   "source": []
  }
 ],
 "metadata": {
  "kernelspec": {
   "display_name": "Python 3",
   "language": "python",
   "name": "python3"
  },
  "language_info": {
   "codemirror_mode": {
    "name": "ipython",
    "version": 3
   },
   "file_extension": ".py",
   "mimetype": "text/x-python",
   "name": "python",
   "nbconvert_exporter": "python",
   "pygments_lexer": "ipython3",
   "version": "3.6.7"
  }
 },
 "nbformat": 4,
 "nbformat_minor": 2
}
